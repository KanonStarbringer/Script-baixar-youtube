{
 "cells": [
  {
   "cell_type": "code",
   "execution_count": null,
   "id": "a3f3b428",
   "metadata": {},
   "outputs": [],
   "source": [
    "import subprocess\n",
    "\n",
    "video_url = \"inserir URL\"\n",
    "\n",
    "subprocess.call([\"youtube-dl\", \"-f\", \"best\", video_url])\n",
    "\n",
    "video_file = video_url.split(\"watch?v=\")[-1] + \".mp4\"\n",
    "\n",
    "subprocess.call([\"ffmpeg\", \"-i\", video_file, \"-c:v\", \"copy\", \"-c:a\", \"copy\", \"output.mp4\"])"
   ]
  }
 ],
 "metadata": {
  "kernelspec": {
   "display_name": "Python 3",
   "language": "python",
   "name": "python3"
  },
  "language_info": {
   "codemirror_mode": {
    "name": "ipython",
    "version": 3
   },
   "file_extension": ".py",
   "mimetype": "text/x-python",
   "name": "python",
   "nbconvert_exporter": "python",
   "pygments_lexer": "ipython3",
   "version": "3.8.8"
  }
 },
 "nbformat": 4,
 "nbformat_minor": 5
}
